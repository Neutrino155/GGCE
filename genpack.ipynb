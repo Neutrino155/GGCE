{
 "cells": [
  {
   "cell_type": "code",
   "execution_count": 1,
   "metadata": {},
   "outputs": [],
   "source": [
    "%load_ext autoreload\n",
    "%autoreload 2"
   ]
  },
  {
   "cell_type": "code",
   "execution_count": 5,
   "metadata": {},
   "outputs": [],
   "source": [
    "from IPython.display import clear_output\n",
    "import os\n",
    "import copy\n",
    "import math\n",
    "import numpy as np\n",
    "import matplotlib.pyplot as plt\n",
    "import pickle\n",
    "import yaml\n",
    "import glob2\n",
    "from itertools import product"
   ]
  },
  {
   "cell_type": "markdown",
   "metadata": {},
   "source": [
    "# Extreme $\\Omega$ calculations"
   ]
  },
  {
   "cell_type": "code",
   "execution_count": 26,
   "metadata": {},
   "outputs": [],
   "source": [
    "target_package_path = \"packages/HP_X_Omega\"\n",
    "config_basename = \"XO\"\n",
    "\n",
    "# Number of w-points\n",
    "Nw = 400\n",
    "\n",
    "# Number of k-points\n",
    "Nk = 401\n",
    "\n",
    "# Yaml params\n",
    "dict0 = {\n",
    "    't': 1.0,\n",
    "    'eta': 0.005,\n",
    "    'model': ['H', 'SSH'],\n",
    "    'M_extent': [[2, 2]],\n",
    "    'N_bosons': [[2, 3]],\n",
    "    'absolute_extent': 4,\n",
    "    'w_grid_info': [[-6.0, 1.0, Nw]],\n",
    "    'k_grid_info': [0.0, 1.0, Nk],\n",
    "    'linspacek': True\n",
    "}"
   ]
  },
  {
   "cell_type": "code",
   "execution_count": 27,
   "metadata": {},
   "outputs": [],
   "source": [
    "Omega_H = [1000.0]\n",
    "Omega_P = [1000.0, 500.0, 100.0, 10.0, 5.0, 2.5, 1.0, 0.5]\n",
    "lambda_H = [1.0, 0.75, 0.5, 0.25, 0.1]\n",
    "lambda_P = [1.0]\n",
    "rotator = list(product(Omega_H, Omega_P, lambda_H, lambda_P))"
   ]
  },
  {
   "cell_type": "code",
   "execution_count": 28,
   "metadata": {},
   "outputs": [],
   "source": [
    "for (O_H, O_P, l_H, l_P) in rotator:\n",
    "    dict1 = copy.copy(dict0)\n",
    "    dict1['Omega'] = [O_H, O_P]\n",
    "    dict1['lam'] = [l_H, l_P]\n",
    "    \n",
    "    with open(f\"{target_package_path}/{config_basename}_{O_H}_{O_P}_{l_H}_{l_P}.yaml\", \"w\") as outfile:\n",
    "        yaml.dump(dict1, outfile, default_flow_style=False)"
   ]
  },
  {
   "cell_type": "code",
   "execution_count": null,
   "metadata": {},
   "outputs": [],
   "source": []
  }
 ],
 "metadata": {
  "kernelspec": {
   "display_name": "Python 3",
   "language": "python",
   "name": "python3"
  },
  "language_info": {
   "codemirror_mode": {
    "name": "ipython",
    "version": 3
   },
   "file_extension": ".py",
   "mimetype": "text/x-python",
   "name": "python",
   "nbconvert_exporter": "python",
   "pygments_lexer": "ipython3",
   "version": "3.7.3"
  },
  "toc": {
   "base_numbering": 1,
   "nav_menu": {},
   "number_sections": true,
   "sideBar": true,
   "skip_h1_title": false,
   "title_cell": "Table of Contents",
   "title_sidebar": "Contents",
   "toc_cell": false,
   "toc_position": {
    "height": "calc(100% - 180px)",
    "left": "10px",
    "top": "150px",
    "width": "266px"
   },
   "toc_section_display": true,
   "toc_window_display": true
  }
 },
 "nbformat": 4,
 "nbformat_minor": 4
}
