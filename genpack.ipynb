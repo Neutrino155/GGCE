{
 "cells": [
  {
   "cell_type": "markdown",
   "metadata": {},
   "source": [
    "Generating packages for running with the `GGCE` code. Note this corresponds to `analyze` verion 3."
   ]
  },
  {
   "cell_type": "code",
   "execution_count": 1,
   "metadata": {},
   "outputs": [],
   "source": [
    "%load_ext autoreload\n",
    "%autoreload 2"
   ]
  },
  {
   "cell_type": "code",
   "execution_count": 2,
   "metadata": {},
   "outputs": [],
   "source": [
    "from IPython.display import clear_output\n",
    "import os\n",
    "import copy\n",
    "import math\n",
    "import numpy as np\n",
    "import matplotlib.pyplot as plt\n",
    "import pickle\n",
    "import yaml\n",
    "import glob2\n",
    "from itertools import product"
   ]
  },
  {
   "cell_type": "markdown",
   "metadata": {},
   "source": [
    "# Holstein"
   ]
  },
  {
   "cell_type": "markdown",
   "metadata": {},
   "source": [
    "TODO"
   ]
  },
  {
   "cell_type": "markdown",
   "metadata": {},
   "source": [
    "# Peierls"
   ]
  },
  {
   "cell_type": "markdown",
   "metadata": {},
   "source": [
    "## Benchmarking: extreme anti-adiabatic\n",
    "See: [Dual coupling effective band model for polarons](https://journals.aps.org/prb/abstract/10.1103/PhysRevB.95.035117) figure 4, where $\\Lambda = \\Omega / 4t$ with $t=1$ implies $\\Omega = 100$."
   ]
  },
  {
   "cell_type": "code",
   "execution_count": 23,
   "metadata": {},
   "outputs": [],
   "source": [
    "# !rm -r packages/Benchmarks_Peierls"
   ]
  },
  {
   "cell_type": "code",
   "execution_count": 25,
   "metadata": {},
   "outputs": [],
   "source": [
    "target_package_path = \"packages/Benchmarks_Peierls\"\n",
    "os.makedirs(target_package_path, exist_ok=False)\n",
    "config_basename = \"trial\"\n",
    "\n",
    "# Number of w-points\n",
    "Nw = 800\n",
    "\n",
    "# Number of k-points\n",
    "Nk = 201\n",
    "\n",
    "# Yaml params\n",
    "dict0 = {\n",
    "    't': 1.0,\n",
    "    'eta': 0.05,\n",
    "    'Omega': [100.0],\n",
    "    'model': ['SSH'],\n",
    "    'M_extent': [[3], [4]],\n",
    "    'N_bosons': [[9], [10]],\n",
    "    'w_grid_info': [[-8.0, 0.0, Nw]],\n",
    "    'k_grid_info': [0.0, 1.0, Nk],\n",
    "    'linspacek': True\n",
    "}\n",
    "\n",
    "lambda_P = [round(0.0 + ii * 0.05, 2) for ii in range(41)]\n",
    "\n",
    "for lp in lambda_P:\n",
    "    dict1 = copy.copy(dict0)\n",
    "    dict1['lam'] = [lp]\n",
    "    \n",
    "    with open(f\"{target_package_path}/{config_basename}_{lp}.yaml\", \"w\") as outfile:\n",
    "        yaml.dump(dict1, outfile, default_flow_style=False)"
   ]
  },
  {
   "cell_type": "markdown",
   "metadata": {},
   "source": [
    "## Competing energy scales\n",
    "Here we take $\\Omega = 1,$ with $\\lambda \\in [0, 1].$"
   ]
  },
  {
   "cell_type": "code",
   "execution_count": 26,
   "metadata": {},
   "outputs": [],
   "source": [
    "target_package_path = \"packages/P_bands\"\n",
    "os.makedirs(target_package_path, exist_ok=False)\n",
    "config_basename = \"trial\"\n",
    "\n",
    "# Number of w-points\n",
    "Nw = 800\n",
    "\n",
    "# Number of k-points\n",
    "Nk = 201\n",
    "\n",
    "# Yaml params\n",
    "dict0 = {\n",
    "    't': 1.0,\n",
    "    'eta': 0.05,\n",
    "    'Omega': [1.0],\n",
    "    'model': ['SSH'],\n",
    "    'M_extent': [[3], [4], [5], [6]],\n",
    "    'N_bosons': [[9], [10]],\n",
    "    'w_grid_info': [[-3.0, 0.0, Nw]],\n",
    "    'k_grid_info': [0.0, 1.0, Nk],\n",
    "    'linspacek': True\n",
    "}\n",
    "\n",
    "lambda_P = [round(0.0 + ii * 0.05, 2) for ii in range(21)]\n",
    "\n",
    "for lp in lambda_P:\n",
    "    dict1 = copy.copy(dict0)\n",
    "    dict1['lam'] = [lp]\n",
    "    \n",
    "    with open(f\"{target_package_path}/{config_basename}_{lp}.yaml\", \"w\") as outfile:\n",
    "        yaml.dump(dict1, outfile, default_flow_style=False)"
   ]
  },
  {
   "cell_type": "markdown",
   "metadata": {},
   "source": [
    "# H+P\n",
    "Results for the H+P model and possibly using experimentally relevant parameters."
   ]
  },
  {
   "cell_type": "markdown",
   "metadata": {},
   "source": [
    "## Fixed $\\Omega_H=1k$ \\& $\\lambda_H =\\lambda_P = 1$\n",
    "* $\\Omega_P$ varies: `[1000.0, 500.0, 100.0, 10.0, 5.0, 2.5, 2.25, 2.0, 1.75, 1.5, 1.4, 1.3, 1.2, 1.1, 1.0, 0.9, 0.8, 0.7, 0.6, 0.5, 0.4, 0.3, 0.2, 0.1]`\n",
    "* At the `[2, 2]`, `[2, 3]`, `4` level of theory\n"
   ]
  },
  {
   "cell_type": "code",
   "execution_count": 5,
   "metadata": {},
   "outputs": [],
   "source": [
    "target_package_path = \"packages/HP_X_Omega_fine_w_grid_2\"\n",
    "os.makedirs(target_package_path, exist_ok=False)\n",
    "config_basename = \"XO\"\n",
    "\n",
    "# Number of w-points\n",
    "Nw = 800\n",
    "\n",
    "# Number of k-points\n",
    "Nk = 201\n",
    "\n",
    "# Yaml params\n",
    "dict0 = {\n",
    "    't': 1.0,\n",
    "    'eta': 0.05,\n",
    "    'model': ['H', 'SSH'],\n",
    "    'M_extent': [[2, 2]],\n",
    "    'N_bosons': [[2, 3]],\n",
    "    'absolute_extent': 4,\n",
    "    'w_grid_info': [[-6.0, 1.0, Nw]],\n",
    "    'k_grid_info': [0.0, 1.0, Nk],\n",
    "    'linspacek': True\n",
    "}\n",
    "\n",
    "Omega_H = [1000.0]\n",
    "Omega_P = [\n",
    "    1000.0, 500.0, 100.0, 10.0, 5.0, 2.5, 2.25, 2.0, 1.75,\n",
    "    1.5, 1.4, 1.3, 1.2, 1.1, 1.0, 0.9, 0.8, 0.7, 0.6, 0.5,\n",
    "    0.4, 0.3, 0.2, 0.1\n",
    "]\n",
    "lambda_H = [1.0]\n",
    "lambda_P = [1.0]\n",
    "rotator = list(product(Omega_H, Omega_P, lambda_H, lambda_P))\n",
    "\n",
    "for (O_H, O_P, l_H, l_P) in rotator:\n",
    "    dict1 = copy.copy(dict0)\n",
    "    dict1['Omega'] = [O_H, O_P]\n",
    "    dict1['lam'] = [l_H, l_P]\n",
    "    \n",
    "    with open(f\"{target_package_path}/{config_basename}_{O_H}_{O_P}_{l_H}_{l_P}.yaml\", \"w\") as outfile:\n",
    "        yaml.dump(dict1, outfile, default_flow_style=False)"
   ]
  },
  {
   "cell_type": "markdown",
   "metadata": {},
   "source": [
    "## Fixed $\\Omega_H=1k$ \\& $\\Omega_P=1$ \\& $\\lambda_H = 1$\n",
    "* $\\lambda_P$ varies: `[1.0, 0.95, 0.9, ..., 0.05, 0.0]`\n",
    "* At the `[2, 2]`, `[2, 3]`, `4` max level of theory (will converge $M$ and $N$)\n"
   ]
  },
  {
   "cell_type": "markdown",
   "metadata": {},
   "source": [
    "### AE=3"
   ]
  },
  {
   "cell_type": "code",
   "execution_count": 14,
   "metadata": {},
   "outputs": [],
   "source": [
    "target_package_path = \"packages/HP_X_Omega_fn_lambda_AE=3\"\n",
    "os.makedirs(target_package_path, exist_ok=False)\n",
    "config_basename = \"XO\"\n",
    "\n",
    "# Number of w-points\n",
    "Nw = 800\n",
    "\n",
    "# Number of k-points\n",
    "Nk = 201\n",
    "\n",
    "# Yaml params\n",
    "dict0 = {\n",
    "    't': 1.0,\n",
    "    'eta': 0.05,\n",
    "    'model': ['H', 'SSH'],\n",
    "    'M_extent': [[1, 1], [1, 2], [2, 2]],\n",
    "    'N_bosons': [[2, 2], [2, 3]],\n",
    "    'absolute_extent': 3,\n",
    "    'w_grid_info': [[-6.0, 1.0, Nw]],\n",
    "    'k_grid_info': [0.0, 1.0, Nk],\n",
    "    'linspacek': True\n",
    "}\n",
    "\n",
    "Omega_H = [1000.0]\n",
    "Omega_P = [1.0]\n",
    "lambda_P = [round(1.0 - ii * 0.05, 2) for ii in range(21)]\n",
    "lambda_H = [1.0]\n",
    "\n",
    "rotator = list(product(Omega_H, Omega_P, lambda_H, lambda_P))\n",
    "\n",
    "for (O_H, O_P, l_H, l_P) in rotator:\n",
    "    dict1 = copy.copy(dict0)\n",
    "    dict1['Omega'] = [O_H, O_P]\n",
    "    dict1['lam'] = [l_H, l_P]\n",
    "    \n",
    "    with open(f\"{target_package_path}/{config_basename}_{O_H}_{O_P}_{l_H}_{l_P}.yaml\", \"w\") as outfile:\n",
    "        yaml.dump(dict1, outfile, default_flow_style=False)"
   ]
  },
  {
   "cell_type": "markdown",
   "metadata": {},
   "source": [
    "### AE=4"
   ]
  },
  {
   "cell_type": "code",
   "execution_count": 13,
   "metadata": {},
   "outputs": [],
   "source": [
    "target_package_path = \"packages/HP_X_Omega_fn_lambda_AE=4\"\n",
    "os.makedirs(target_package_path, exist_ok=False)\n",
    "config_basename = \"XO\"\n",
    "\n",
    "# Number of w-points\n",
    "Nw = 800\n",
    "\n",
    "# Number of k-points\n",
    "Nk = 201\n",
    "\n",
    "# Yaml params\n",
    "dict0 = {\n",
    "    't': 1.0,\n",
    "    'eta': 0.05,\n",
    "    'model': ['H', 'SSH'],\n",
    "    'M_extent': [[1, 1], [1, 2], [2, 2]],\n",
    "    'N_bosons': [[2, 2], [2, 3]],\n",
    "    'absolute_extent': 4,\n",
    "    'w_grid_info': [[-6.0, 1.0, Nw]],\n",
    "    'k_grid_info': [0.0, 1.0, Nk],\n",
    "    'linspacek': True\n",
    "}\n",
    "\n",
    "Omega_H = [1000.0]\n",
    "Omega_P = [1.0]\n",
    "lambda_P = [round(1.0 - ii * 0.05, 2) for ii in range(21)]\n",
    "lambda_H = [1.0]\n",
    "\n",
    "rotator = list(product(Omega_H, Omega_P, lambda_H, lambda_P))\n",
    "\n",
    "for (O_H, O_P, l_H, l_P) in rotator:\n",
    "    dict1 = copy.copy(dict0)\n",
    "    dict1['Omega'] = [O_H, O_P]\n",
    "    dict1['lam'] = [l_H, l_P]\n",
    "    \n",
    "    with open(f\"{target_package_path}/{config_basename}_{O_H}_{O_P}_{l_H}_{l_P}.yaml\", \"w\") as outfile:\n",
    "        yaml.dump(dict1, outfile, default_flow_style=False)"
   ]
  },
  {
   "cell_type": "code",
   "execution_count": null,
   "metadata": {},
   "outputs": [],
   "source": []
  }
 ],
 "metadata": {
  "kernelspec": {
   "display_name": "Python 3",
   "language": "python",
   "name": "python3"
  },
  "language_info": {
   "codemirror_mode": {
    "name": "ipython",
    "version": 3
   },
   "file_extension": ".py",
   "mimetype": "text/x-python",
   "name": "python",
   "nbconvert_exporter": "python",
   "pygments_lexer": "ipython3",
   "version": "3.7.3"
  },
  "toc": {
   "base_numbering": 1,
   "nav_menu": {},
   "number_sections": true,
   "sideBar": true,
   "skip_h1_title": false,
   "title_cell": "Table of Contents",
   "title_sidebar": "Contents",
   "toc_cell": false,
   "toc_position": {
    "height": "calc(100% - 180px)",
    "left": "10px",
    "top": "150px",
    "width": "285px"
   },
   "toc_section_display": true,
   "toc_window_display": true
  }
 },
 "nbformat": 4,
 "nbformat_minor": 4
}
